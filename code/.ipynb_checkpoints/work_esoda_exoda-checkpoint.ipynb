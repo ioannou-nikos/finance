{
 "cells": [
  {
   "cell_type": "code",
   "execution_count": null,
   "metadata": {
    "collapsed": true
   },
   "outputs": [],
   "source": [
    "#Initialization and imports\n",
    "%matplotlib inline\n",
    "%run config.py\n",
    "import dataframes as dfs\n",
    "dfBuilder = dfs.DataFramesBuilder()\n",
    "enotites = dfs.defs.enotites\n",
    "\n",
    "#Read and combine exoda\n",
    "ex12 = dfBuilder.read_exoda(\"../data/ex_2012.xls\")\n",
    "ex12['year'] = '2012'\n",
    "ex13 = dfBuilder.read_exoda(\"../data/ex_2013.xls\")\n",
    "ex13['year'] = '2013'\n",
    "ex14 = dfBuilder.read_exoda(\"../data/ex_2014.xls\")\n",
    "ex14['year'] = '2014'\n",
    "ex = ex12.append(ex13.append(ex14))\n",
    "dfBuilder.set_inner_dataframe(ex)\n",
    "ex = dfBuilder.add_extra_fields()\n",
    "\n",
    "\n",
    "#Read exoda file into dataframe\n",
    "df = dfBuilder.read_exoda(\"../data/ex_2014.xls\")\n",
    "#Add the extra fields\n",
    "df = dfBuilder.add_extra_fields()\n",
    "\n",
    "#Define the fields to plot\n",
    "plot_field = 'plirothenta'\n",
    "plot_fields_array = ['eggekrimenos','diamorfomenos','desmefthenta','plirothenta']"
   ]
  }
 ],
 "metadata": {
  "kernelspec": {
   "display_name": "Python 2",
   "language": "python",
   "name": "python2"
  },
  "language_info": {
   "codemirror_mode": {
    "name": "ipython",
    "version": 2
   },
   "file_extension": ".py",
   "mimetype": "text/x-python",
   "name": "python",
   "nbconvert_exporter": "python",
   "pygments_lexer": "ipython2",
   "version": "2.7.10"
  }
 },
 "nbformat": 4,
 "nbformat_minor": 0
}
