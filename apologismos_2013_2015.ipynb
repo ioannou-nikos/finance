{
 "cells": [
  {
   "cell_type": "code",
   "execution_count": null,
   "metadata": {
    "collapsed": false
   },
   "outputs": [],
   "source": [
    "%pylab inline\n",
    "import pandas as pd\n",
    "import numpy as np\n",
    "import fin_functions as funcs\n",
    "\n",
    "#Set thousands separator\n",
    "pd.set_option('display.float_format', lambda x: '{:,.2f}'.format(x))"
   ]
  },
  {
   "cell_type": "code",
   "execution_count": null,
   "metadata": {
    "collapsed": true
   },
   "outputs": [],
   "source": [
    "#read the two sheets from excel file\n",
    "total_cols = pd.read_excel('apologismos_2013_2015.xls',sheetname=3,header=0,parse_cols='A:I')\n",
    "total_rows = pd.read_excel('apologismos_2013_2015.xls',sheetname=4,header=0,parse_cols='A:T')"
   ]
  },
  {
   "cell_type": "code",
   "execution_count": null,
   "metadata": {
    "collapsed": true
   },
   "outputs": [],
   "source": [
    "#Sort by enotita and month\n",
    "tr_sorted_by_source = total_rows.sort(['source','month'],ascending=[1,1])"
   ]
  },
  {
   "cell_type": "code",
   "execution_count": null,
   "metadata": {
    "collapsed": false
   },
   "outputs": [],
   "source": [
    "enot = 3\n",
    "xron = 14\n",
    "tr_thess = funcs.build_enotita_year_img(enot,xron,tr_sorted_by_source)\n",
    "tr_thess[['pct_egg_desm'+str(xron),'pct_egg_timol'+str(xron),'pct_egg_ental'+str(xron),'pct_egg_plir'+str(xron)]].plot()"
   ]
  },
  {
   "cell_type": "code",
   "execution_count": null,
   "metadata": {
    "collapsed": false
   },
   "outputs": [],
   "source": [
    "tr_thess[['egg'+str(xron),'diam'+str(xron),'cs_desm'+str(xron),'cs_timol'+str(xron),'cs_ental'+str(xron),'cs_plir'+str(xron)]].plot()"
   ]
  },
  {
   "cell_type": "code",
   "execution_count": null,
   "metadata": {
    "collapsed": true
   },
   "outputs": [],
   "source": []
  }
 ],
 "metadata": {
  "kernelspec": {
   "display_name": "Python 2",
   "language": "python",
   "name": "python2"
  },
  "language_info": {
   "codemirror_mode": {
    "name": "ipython",
    "version": 2
   },
   "file_extension": ".py",
   "mimetype": "text/x-python",
   "name": "python",
   "nbconvert_exporter": "python",
   "pygments_lexer": "ipython2",
   "version": "2.7.9"
  }
 },
 "nbformat": 4,
 "nbformat_minor": 0
}
