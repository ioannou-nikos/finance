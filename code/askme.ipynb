{
 "cells": [
  {
   "cell_type": "code",
   "execution_count": 77,
   "metadata": {
    "collapsed": false
   },
   "outputs": [
    {
     "name": "stdout",
     "output_type": "stream",
     "text": [
      "Using matplotlib backend: MacOSX\n",
      "Populating the interactive namespace from numpy and matplotlib\n"
     ]
    }
   ],
   "source": [
    "#Make all libraries inline\n",
    "%pylab\n",
    "import pandas as pd\n",
    "import numpy as np\n",
    "import scipy as sp\n",
    "import definitions as defs\n",
    "\n",
    "\n",
    "#Make some initial pandas configuration\n",
    "pd.set_option('display.mpl_style', 'default') # Make the graphs a bit prettier\\n\"\n",
    "pd.set_option('expand_frame_repr',True)\n",
    "pd.set_option('use_inf_as_null',True)\n",
    "plt.rcParams['figure.figsize'] = (15, 5)\n",
    "pd.set_option('display.float_format', lambda x: '{:,.2f}'.format(x)) #Set thousands separator\n",
    "\n",
    "#Απαραίτητες δηλώσεις.\n",
    "#Οι τίτλοι των φορέων ως προς τη σημασία τους\n",
    "foreis_dict={'071':'PDE',\n",
    "             '151':'_IDRIMATA,NEFROPATHEIS',\n",
    "             '153':'_KATASKINOSEIS',\n",
    "             '191':'_METAFORA MATHITON',\n",
    "             '192':'_METAFORA MATHITON',\n",
    "             '291':'_AGROTIKI OIKONOMIA',\n",
    "             '292':'_KTINIATRIKI',\n",
    "             '293':'_ALIEIA',\n",
    "             '294':'_EGGEIES VELTIOSEIS',\n",
    "             '390':'METAFORON IDIA ESODA',\n",
    "             '721':'LEITOYRGIKA,IDIOI POROI, EKLOGES, OLATH ',\n",
    "             '722':'TEO',\n",
    "             '723':'ANTAPODOTIKA',\n",
    "             '724':'ERGA KAP',\n",
    "             '725':'ERGA KAP PKM',\n",
    "}\n",
    "\n",
    "#Οι τίτλοι των χιλιάδων από τους ΚΑΕ\n",
    "xiliades_dict={'0':'PLIROMES GIA YPIRESIES',\n",
    "        '1':'PROMITHIES AGATHWN KAI KEFALAIAKOY EXOPLISMOU',\n",
    "        '2':'PLIROMES METABIBASTIKES',\n",
    "        '3':'PLIROMES POU ANTIKRIZONTAI APO PRAGMATOPOIOUMENA ESODA',\n",
    "        '4':'DAPANES NATO APO KRATOI MELH',\n",
    "        '5':'DAPANES POU DEN ENTASSONTAI SE ALLES KATIGORIES',\n",
    "        '6':'PLIROMES GIA THN EXYPHRETHSH THS DHMOSIAS PISTIS',\n",
    "        '7':'APALOTRIOSEIS, AGORES, ANEGERSEIS ...',\n",
    "        '8':'PLIROMES GIA ERGA P.D.E',\n",
    "        '9':'PLIROMES GIA EPENDISEIS'}\n",
    "\n",
    "#Set the columns names for exoda\n",
    "exnames = ['logar','perigrafi','proteinomenos','eggekrimenos','anamorfoseis',\n",
    "           'diamorfomenos','desmefthenta','entalthenta','proplirothenta','plirothenta']\n",
    "\n",
    "#Set the columns names for esoda\n",
    "esnames = ['logar','perigrafi','proteinomenos','eggekrimenos','anamorfoseis',\n",
    "           'diamorfomenos']\n",
    "           \n",
    "enotites = { '00':'EDRA',\n",
    "            '01':'THESSALONIKI',\n",
    "            '02':'IMATHIA',\n",
    "            '03':'KILKIS',\n",
    "            '04':'PIERIA',\n",
    "            '05':'PELLA',\n",
    "            '06':'SERRES',\n",
    "            '07':'CHALKIDIKI'\n",
    "            }\n",
    "\n",
    "\n",
    "#Προετοιμασία της εργασίας. Διάβασμα των αρχείων δεδομένων και διαμόρφωση τους\n",
    "#exoda\n",
    "exoda = pd.read_excel('../data/ex_2012.xls', sheetname=0, header=None,skiprows=1, parse_cols='A:J', names=exnames)\n",
    "exoda['xronia'] = 2012\n",
    "temp = pd.read_excel('../data/ex_2013.xls', sheetname=0, header=None,skiprows=1, parse_cols='A:J', names=exnames)\n",
    "temp['xronia'] = 2013\n",
    "exoda = exoda.append(temp)\n",
    "temp = pd.read_excel('../data/ex_2014.xls', sheetname=0, header=None,skiprows=1, parse_cols='A:J', names=exnames)\n",
    "temp['xronia'] = 2014\n",
    "exoda = exoda.append(temp)\n",
    "temp = pd.read_excel('../data/ex_2015.xls', sheetname=0, header=None,skiprows=1, parse_cols='A:J', names=exnames)\n",
    "temp['xronia'] = 2015\n",
    "exoda = exoda.append(temp)\n",
    "#exoda[['xronia','logar']].groupby(['xronia']).agg('count')\n",
    "#Προσθήκη κάποιων πεδίων και σπάσιμο του λογαριασμού\n",
    "exoda = defs.format_dataframe(exoda)\n",
    "exoda.columns\n",
    "\n",
    "#esoda\n",
    "esoda = pd.read_excel('../data/es_2012.xls', sheetname=0, header=None,skiprows=1, parse_cols='A:F', names=esnames)\n",
    "esoda['xronia'] = 2012\n",
    "temp = pd.read_excel('../data/es_2013.xls', sheetname=0, header=None,skiprows=1, parse_cols='A:F', names=esnames)\n",
    "temp['xronia'] = 2013\n",
    "esoda = esoda.append(temp)\n",
    "temp = pd.read_excel('../data/es_2014.xls', sheetname=0, header=None,skiprows=1, parse_cols='A:F', names=esnames)\n",
    "temp['xronia'] = 2014\n",
    "esoda = esoda.append(temp)\n",
    "temp = pd.read_excel('../data/es_2015.xls', sheetname=0, header=None,skiprows=1, parse_cols='A:F', names=esnames)\n",
    "temp['xronia'] = 2015\n",
    "esoda = esoda.append(temp)\n",
    "#esoda[['xronia','logar']].groupby(['xronia']).agg('count')\n",
    "#Προσθήκη κάποιων πεδίων και σπάσιμο του λογαριασμού\n",
    "esoda = defs.format_dataframe(esoda)\n",
    "\n",
    "#Εδώ κρατάμε μόνο τους λογαριασμούς που παρουσιάζουν κίνηση σε επίπεδο διαμορφωμένου προϋπολογισμού και είναι ΚΑΕ\n",
    "esoda_act = esoda[esoda.diamorfomenos != 0]\n",
    "esoda_act = esoda_act[esoda_act.kae != '']\n",
    "exoda_act = exoda[exoda.diamorfomenos != 0]\n",
    "exoda_act = exoda_act[exoda_act.kae != '']\n"
   ]
  },
  {
   "cell_type": "markdown",
   "metadata": {},
   "source": [
    "Πόσους ΚΑΕ εξόδων χρησιμοποιούμε στην ΠΚΜ σε όλα τα χρόνια?"
   ]
  },
  {
   "cell_type": "code",
   "execution_count": null,
   "metadata": {
    "collapsed": false
   },
   "outputs": [],
   "source": [
    "exoda_act[['xronia','enotita','kae']].groupby(['enotita','xronia']).agg('count').plot(kind='bar')"
   ]
  },
  {
   "cell_type": "markdown",
   "metadata": {},
   "source": [
    "Πόσους ΚΑΕ εσόδων χρησιμοποιούμε στην ΠΚΜ σε όλα τα χρόνια?"
   ]
  },
  {
   "cell_type": "code",
   "execution_count": null,
   "metadata": {
    "collapsed": false
   },
   "outputs": [],
   "source": [
    "esoda_act[['xronia','enotita','kae']].groupby(['enotita','xronia']).agg('count').plot(kind='bar')"
   ]
  },
  {
   "cell_type": "markdown",
   "metadata": {},
   "source": [
    "Πόσους φορείς εξόδων χρησιμοποιεί η ΠΚΜ σε όλα τα χρόνια?"
   ]
  },
  {
   "cell_type": "code",
   "execution_count": null,
   "metadata": {
    "collapsed": false
   },
   "outputs": [],
   "source": [
    "exoda_act[['xronia','enotita','foreas','kae']][exoda.foreas=='071'].groupby(['foreas','enotita','xronia']).agg('count')"
   ]
  },
  {
   "cell_type": "code",
   "execution_count": 92,
   "metadata": {
    "collapsed": false
   },
   "outputs": [
    {
     "data": {
      "text/plain": [
       "array([[u'0'],\n",
       "       [u'0'],\n",
       "       [u'0'],\n",
       "       ..., \n",
       "       [u'9'],\n",
       "       [u'9'],\n",
       "       [u'9']], dtype=object)"
      ]
     },
     "execution_count": 92,
     "metadata": {},
     "output_type": "execute_result"
    }
   ],
   "source": [
    "fields = ['enotita','xronia','eggekrimenos','anamorfoseis','diamorfomenos','desmefthenta','entalthenta','plirothenta']\n",
    "first_grp = exoda_act[fields][exoda_act.xiliada == '9'].groupby(['xronia','enotita']).sum()\n",
    "sec_grp = exoda_act[fields][exoda_act.xiliada == '9'].groupby(['xronia']).sum()\n",
    "first_grp.div(sec_grp, level='xronia')"
   ]
  }
 ],
 "metadata": {
  "kernelspec": {
   "display_name": "Python 2",
   "language": "python",
   "name": "python2"
  },
  "language_info": {
   "codemirror_mode": {
    "name": "ipython",
    "version": 2
   },
   "file_extension": ".py",
   "mimetype": "text/x-python",
   "name": "python",
   "nbconvert_exporter": "python",
   "pygments_lexer": "ipython2",
   "version": "2.7.11"
  }
 },
 "nbformat": 4,
 "nbformat_minor": 0
}
