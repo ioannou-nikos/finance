{
 "cells": [
  {
   "cell_type": "code",
   "execution_count": null,
   "metadata": {
    "collapsed": true
   },
   "outputs": [],
   "source": [
    "#Initialization and imports\n",
    "%matplotlib inline\n",
    "%run config.py\n",
    "import dataframes as dfs\n",
    "dfBuilder = dfs.DataFramesBuilder()\n",
    "enotites = dfs.defs.enotites\n",
    "\n",
    "#Read and combine exoda\n",
    "ex12 = dfBuilder.read_exoda(\"../data/ex_2012.xls\")\n",
    "ex12['year'] = '2012'\n",
    "ex13 = dfBuilder.read_exoda(\"../data/ex_2013.xls\")\n",
    "ex13['year'] = '2013'\n",
    "ex14 = dfBuilder.read_exoda(\"../data/ex_2014.xls\")\n",
    "ex14['year'] = '2014'\n",
    "ex = ex12.append(ex13.append(ex14))\n",
    "dfBuilder.set_inner_dataframe(ex)\n",
    "ex = dfBuilder.add_extra_fields()\n",
    "\n",
    "#Read and combine esoda\n",
    "es12 = dfBuilder.read_esoda(\"../data/es_2012.xls\")\n",
    "es12['year'] = '2012'\n",
    "es13 = dfBuilder.read_esoda(\"../data/es_2013.xls\")\n",
    "es13['year'] = '2013'\n",
    "es14 = dfBuilder.read_esoda(\"../data/es_2014.xls\")\n",
    "es14['year'] = '2014'\n",
    "es = es12.append(es13.append(es14))\n",
    "dfBuilder.set_inner_dataframe(es)\n",
    "es = dfBuilder.add_extra_fields()\n"
   ]
  },
  {
   "cell_type": "code",
   "execution_count": null,
   "metadata": {
    "collapsed": false
   },
   "outputs": [],
   "source": [
    "#Get esoda as xilia\n",
    "esd = dfBuilder.get_xilia_df(es)\n",
    "#esd = esd[(esd.enotita!='00') & (esd.xilia == '9')]\n",
    "esd = esd[(esd.enotita!='00')]\n",
    "\n",
    "#Get certain columns and group by\n",
    "esd = esd[['year','enotita','eggekrimenos','diamorfomenos']]\n",
    "esg = esd.groupby(['enotita','year']).sum()\n",
    "\n",
    "#Get exoda as xilia\n",
    "exd = dfBuilder.get_xilia_df(ex)\n",
    "#exd = exd[(exd.enotita!='00') & (exd.xilia == '9')]\n",
    "exd = exd[(exd.enotita!='00')]\n",
    "\n",
    "#Get certain columns and group by\n",
    "exd = exd[['year','enotita','eggekrimenos','diamorfomenos','desmefthenta','plirothenta']]\n",
    "exg = exd.groupby(['enotita','year']).sum()"
   ]
  },
  {
   "cell_type": "code",
   "execution_count": null,
   "metadata": {
    "collapsed": false
   },
   "outputs": [],
   "source": [
    "#Flatten the groupby esoda\n",
    "esgd = esg.copy()\n",
    "esgd = esgd.add_suffix('_es').reset_index()\n",
    "#Flatten the groupby exoda\n",
    "exgd = exg.copy()\n",
    "exgd = exgd.add_suffix('_ex').reset_index()\n",
    "#Merge the two dataframes\n",
    "mgd = pd.merge(esgd, exgd, on=['enotita','year'])"
   ]
  },
  {
   "cell_type": "code",
   "execution_count": null,
   "metadata": {
    "collapsed": false
   },
   "outputs": [],
   "source": [
    "ax = mgd[['enotita','year','diamorfomenos_es','desmefthenta_ex']].plot(kind='bar')\n",
    "ax.set_xticklabels(mgd.enotita + ', ' + mgd.year)"
   ]
  },
  {
   "cell_type": "code",
   "execution_count": 55,
   "metadata": {
    "collapsed": false
   },
   "outputs": [
    {
     "data": {
      "text/html": [
       "<div style=\"max-height:1000px;max-width:1500px;overflow:auto;\">\n",
       "<table border=\"1\" class=\"dataframe\">\n",
       "  <thead>\n",
       "    <tr style=\"text-align: right;\">\n",
       "      <th></th>\n",
       "      <th>enotita</th>\n",
       "      <th>year</th>\n",
       "      <th>eggekrimenos_es</th>\n",
       "      <th>diamorfomenos_es</th>\n",
       "      <th>eggekrimenos_ex</th>\n",
       "      <th>diamorfomenos_ex</th>\n",
       "      <th>desmefthenta_ex</th>\n",
       "      <th>plirothenta_ex</th>\n",
       "      <th>diafora_es_ex</th>\n",
       "    </tr>\n",
       "  </thead>\n",
       "  <tbody>\n",
       "    <tr>\n",
       "      <th>3</th>\n",
       "      <td>02</td>\n",
       "      <td>2012</td>\n",
       "      <td>13,910,781.20</td>\n",
       "      <td>14,094,602.36</td>\n",
       "      <td>13,945,281.20</td>\n",
       "      <td>14,870,966.38</td>\n",
       "      <td>5,566,584.18</td>\n",
       "      <td>5,575,825.53</td>\n",
       "      <td>8,518,776.83</td>\n",
       "    </tr>\n",
       "    <tr>\n",
       "      <th>4</th>\n",
       "      <td>02</td>\n",
       "      <td>2013</td>\n",
       "      <td>6,296,134.34</td>\n",
       "      <td>13,170,546.94</td>\n",
       "      <td>10,154,378.27</td>\n",
       "      <td>16,151,200.05</td>\n",
       "      <td>6,345,309.38</td>\n",
       "      <td>5,505,538.09</td>\n",
       "      <td>7,665,008.85</td>\n",
       "    </tr>\n",
       "    <tr>\n",
       "      <th>5</th>\n",
       "      <td>02</td>\n",
       "      <td>2014</td>\n",
       "      <td>6,180,324.16</td>\n",
       "      <td>10,224,679.47</td>\n",
       "      <td>9,870,846.02</td>\n",
       "      <td>14,729,374.32</td>\n",
       "      <td>12,107,488.79</td>\n",
       "      <td>5,516,154.05</td>\n",
       "      <td>4,708,525.42</td>\n",
       "    </tr>\n",
       "  </tbody>\n",
       "</table>\n",
       "</div>"
      ],
      "text/plain": [
       "  enotita  year  eggekrimenos_es  diamorfomenos_es  eggekrimenos_ex  \\\n",
       "3      02  2012    13,910,781.20     14,094,602.36    13,945,281.20   \n",
       "4      02  2013     6,296,134.34     13,170,546.94    10,154,378.27   \n",
       "5      02  2014     6,180,324.16     10,224,679.47     9,870,846.02   \n",
       "\n",
       "   diamorfomenos_ex  desmefthenta_ex  plirothenta_ex  diafora_es_ex  \n",
       "3     14,870,966.38     5,566,584.18    5,575,825.53   8,518,776.83  \n",
       "4     16,151,200.05     6,345,309.38    5,505,538.09   7,665,008.85  \n",
       "5     14,729,374.32    12,107,488.79    5,516,154.05   4,708,525.42  "
      ]
     },
     "execution_count": 55,
     "metadata": {},
     "output_type": "execute_result"
    }
   ],
   "source": [
    "mgd['diafora_es_ex'] = mgd.diamorfomenos_es - mgd.plirothenta_ex\n",
    "mgden = mgd[mgd.enotita == '02']\n",
    "mgden"
   ]
  }
 ],
 "metadata": {
  "kernelspec": {
   "display_name": "Python 2",
   "language": "python",
   "name": "python2"
  },
  "language_info": {
   "codemirror_mode": {
    "name": "ipython",
    "version": 2
   },
   "file_extension": ".py",
   "mimetype": "text/x-python",
   "name": "python",
   "nbconvert_exporter": "python",
   "pygments_lexer": "ipython2",
   "version": "2.7.10"
  }
 },
 "nbformat": 4,
 "nbformat_minor": 0
}
