{
 "metadata": {
  "name": "",
  "signature": "sha256:cb211d8c0f2a885ccf721341594337fc1ad8b6294140ebdfb23ca328021c52e6"
 },
 "nbformat": 3,
 "nbformat_minor": 0,
 "worksheets": [
  {
   "cells": [
    {
     "cell_type": "code",
     "collapsed": false,
     "input": [
      "#Import the file to define the columns names\n",
      "import data_names as dnm\n",
      "#import pandas, matplotlib, numpy\n",
      "import pandas as pd\n",
      "import matplotlib.pyplot as plt\n",
      "import numpy as np\n",
      "\n",
      "#Make plotting inline\n",
      "%matplotlib inline"
     ],
     "language": "python",
     "metadata": {},
     "outputs": [],
     "prompt_number": 1
    },
    {
     "cell_type": "code",
     "collapsed": false,
     "input": [
      "#Set the working year\n",
      "es_file = 'es2014.csv'\n",
      "ex_file = 'ex2014.csv'\n",
      "\n",
      "#read in the data\n",
      "es = pd.read_csv(es_file, sep=';', header=0, names=dnm.es_names, \n",
      "                 thousands='.', decimal=',', low_memory=False, encoding='utf-8')\n",
      "ex = pd.read_csv(ex_file, sep=';', header=0, names=dnm.ex_names, \n",
      "                 thousands='.', decimal=',', low_memory=False, encoding='utf-8')"
     ],
     "language": "python",
     "metadata": {},
     "outputs": [],
     "prompt_number": 34
    },
    {
     "cell_type": "code",
     "collapsed": false,
     "input": [
      "#Create column ENOTITA\n",
      "ex['ENOTITA'] = ex.LOGARIASMOS.str[3:5]\n",
      "es['ENOTITA'] = es.LOGARIASMOS.str[3:5]\n",
      "#Clean the base missing data\n",
      "ex = ex[ex.LOGARIASMOS.notnull() & ex.DIAMORFOMENOS!=0 & ex.DIAMORFOMENOS.notnull() ]\n",
      "es = es[es.LOGARIASMOS.notnull() & es.DIAMORFOMENOS!=0 & es.DIAMORFOMENOS.notnull() ]"
     ],
     "language": "python",
     "metadata": {},
     "outputs": [],
     "prompt_number": 35
    },
    {
     "cell_type": "code",
     "collapsed": false,
     "input": [
      "#Get rows standing for enotita\n",
      "ex_enotita = ex.LOGARIASMOS.apply(lambda x: len(x.encode('ascii','ignore'))==5)\n",
      "#Get rows standing for kae\n",
      "ex_kae = ex.LOGARIASMOS.apply(lambda x: len(x.encode('ascii','ignore'))==9)\n",
      "#Get rows standing for forea\n",
      "ex_foreas = ex.LOGARIASMOS.apply(lambda x: len(x.encode('ascii','ignore'))==14)\n",
      "#Get the rows of an enotita\n",
      "enotita_bool = ex.ENOTITA.apply(lambda x: x == '02')\n",
      "#Define the fields to analyze from exoda\n",
      "ex_analysis_fields = ['LOGARIASMOS','DIAMORFOMENOS','DESMEFTHENTA','TIMOLOGITHENTA','ENTALTHENTA','PLIROTHENTA','DIATHESEIS','ENOTITA']\n",
      "#Get a dataframe for analysis\n",
      "ex_df = ex[ex_analysis_fields]\n",
      "#Get the dataframes for each kind\n",
      "ex_dfenotita = ex_df[ex_enotita]\n",
      "ex_dfkae = ex_df[ex_kae]\n",
      "ex_dfforeas = ex_df[ex_foreas]"
     ],
     "language": "python",
     "metadata": {},
     "outputs": [],
     "prompt_number": 60
    },
    {
     "cell_type": "code",
     "collapsed": false,
     "input": [
      "ex_dfenotita[enotita_bool]['PLIROTHENTA'].sum()\n",
      "ex_dfforeas[enotita_bool]['PLIROTHENTA'].sum()"
     ],
     "language": "python",
     "metadata": {},
     "outputs": [
      {
       "metadata": {},
       "output_type": "pyout",
       "prompt_number": 63,
       "text": [
        "27718714.039999999"
       ]
      }
     ],
     "prompt_number": 63
    },
    {
     "cell_type": "code",
     "collapsed": false,
     "input": [],
     "language": "python",
     "metadata": {},
     "outputs": [
      {
       "metadata": {},
       "output_type": "pyout",
       "prompt_number": 59,
       "text": [
        "0     False\n",
        "1     False\n",
        "2     False\n",
        "3     False\n",
        "4     False\n",
        "5     False\n",
        "6     False\n",
        "7     False\n",
        "8     False\n",
        "9     False\n",
        "10    False\n",
        "11    False\n",
        "12    False\n",
        "13    False\n",
        "14    False\n",
        "...\n",
        "5152    False\n",
        "5153    False\n",
        "5158    False\n",
        "5159    False\n",
        "5160    False\n",
        "5161    False\n",
        "5162    False\n",
        "5163    False\n",
        "5164    False\n",
        "5166    False\n",
        "5167    False\n",
        "5168    False\n",
        "5169    False\n",
        "5170    False\n",
        "5171    False\n",
        "Name: ENOTITA, Length: 4765, dtype: bool"
       ]
      }
     ],
     "prompt_number": 59
    },
    {
     "cell_type": "code",
     "collapsed": false,
     "input": [
      "exgroup = ex.groupby(ex.ENOTITA, sort=False)\n",
      "exgroup.sum()\n",
      "esgroup = es.groupby(es.ENOTITA, sort=False)\n",
      "esgroup.sum()\n",
      "for key, grp in es.groupby(es.ENOTITA,sort=False):\n",
      "    if key in ['00','01']:\n",
      "        plt.plot(grp['EISPRAXTHENTA'], label=key)\n",
      "plt.legend(loc='best')\n",
      "plt.show()"
     ],
     "language": "python",
     "metadata": {},
     "outputs": [
      {
       "metadata": {},
       "output_type": "display_data",
       "png": "[encoded data removed]",
       "text": [
        "<matplotlib.figure.Figure at 0x10c96d190>"
       ]
      }
     ],
     "prompt_number": 93
    },
    {
     "cell_type": "code",
     "collapsed": false,
     "input": [],
     "language": "python",
     "metadata": {},
     "outputs": []
    }
   ],
   "metadata": {}
  }
 ]
}