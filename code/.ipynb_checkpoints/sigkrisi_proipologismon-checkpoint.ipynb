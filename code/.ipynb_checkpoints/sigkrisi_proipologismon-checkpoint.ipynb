{
 "cells": [
  {
   "cell_type": "markdown",
   "metadata": {},
   "source": [
    "##Παρατηρήσεις\n",
    "1. Φαίνεται από μια πρόχειρη ανάλυση των ταμειακών υπολοίπων των εσόδων, ότι οι Σέρρες παρουσιάζουν ένα μόνιμο ταμεικό υπόλοιπο που είναι από 7.000.000(2012) εως 5.000.000(2014) "
   ]
  },
  {
   "cell_type": "markdown",
   "metadata": {},
   "source": [
    "Το συγκεκριμένο notebook είναι για να συγκρίνουμε τα στοιχεία των προϋπολογισμών ως προς τον προϋπολογισμό και τις αναμορφώσεις προκειμένου να δούμε το κατά πόσο μπόρεσε να επιτύχει με βάση τα νούμερα καλύτερα αποτελέσματα και εάν αυτό βελτιώνεται με την πάροδο του χρόνου και την απόκτηση περισσότερης εμπειρίας. \n",
    "Ο χρόνος εκκίνησης είναι το 2012.\n",
    "\n",
    "Στόχος είναι να μελετήσουμε τα δεδομένα σε δύο επίπεδα:\n",
    "1. Σε επίπεδο περιφέρειας\n",
    "2. Σε επίπεδο περιφερειακής ενότητας\n",
    "\n",
    "Και στα δύο επίπεδα ανάλυσης η μελέτη θα γίνει\n",
    "1. Σε επίπεδο φορέα\n",
    "2. Σε επίπεδο χιλιάδας ΚΑΕ\n",
    "3. Σε επίπεδο εκατοντάδας ΚΑΕ"
   ]
  },
  {
   "cell_type": "code",
   "execution_count": 2,
   "metadata": {
    "collapsed": false
   },
   "outputs": [],
   "source": [
    "%matplotlib inline\n",
    "import pandas as pd\n",
    "import numpy as np\n",
    "\n",
    "#Import our custom libraries\n",
    "from dataframes import DataFramesBuilder as dfb\n",
    "import definitions as defs\n",
    "import sigkrisi_proipologismon as sp\n",
    "\n",
    "db = dfb()"
   ]
  },
  {
   "cell_type": "markdown",
   "metadata": {},
   "source": [
    "###Αρχικοποίηση και διάβασμα των δεδομένων"
   ]
  },
  {
   "cell_type": "markdown",
   "metadata": {},
   "source": [
    "Τα δεδομένα που διαβάζουμε εδώ είναι μέχρι και το 2014 γιατί δεν έχουμε στοιχεία για το 2015"
   ]
  },
  {
   "cell_type": "code",
   "execution_count": 3,
   "metadata": {
    "collapsed": false
   },
   "outputs": [],
   "source": [
    "sp.add_year_field\n",
    "es12 = sp.add_year_field(db.add_extra_fields(db.read_esoda('../data/es_2012.xls')), 2012)\n",
    "es13 = sp.add_year_field(db.add_extra_fields(db.read_esoda('../data/es_2013.xls')), 2013)\n",
    "es14 = sp.add_year_field(db.add_extra_fields(db.read_esoda('../data/es_2014.xls')), 2014)\n",
    "es15 = sp.add_year_field(db.add_extra_fields(db.read_esoda('../data/es_2015.xls')), 2015)\n",
    "\n",
    "\n",
    "ex12 = sp.add_year_field(db.add_extra_fields(db.read_exoda('../data/ex_2012.xls')), 2012)\n",
    "ex13 = sp.add_year_field(db.add_extra_fields(db.read_exoda('../data/ex_2013.xls')), 2013)\n",
    "ex14 = sp.add_year_field(db.add_extra_fields(db.read_exoda('../data/ex_2014.xls')), 2014)\n",
    "ex15 = sp.add_year_field(db.add_extra_fields(db.read_exoda('../data/ex_2015.xls')), 2015)\n",
    "\n",
    "#Ένωση όλων των εσόδων\n",
    "es = es12.append(es13.append(es14.append(es15)))\n",
    "#Ένωση όλων των εξόδων\n",
    "ex = ex12.append(ex13.append(ex14.append(ex15)))"
   ]
  },
  {
   "cell_type": "markdown",
   "metadata": {},
   "source": [
    "#Ανάλυση σε όλη την περιφέρεια\n",
    "\n",
    "##Ανάλυση με βάση το φορέα\n",
    "\n",
    "###ΕΣΟΔΑ"
   ]
  },
  {
   "cell_type": "code",
   "execution_count": 10,
   "metadata": {
    "collapsed": false
   },
   "outputs": [],
   "source": [
    "#Διαβάζουμε μόνο τους φορείς από τα έσοδα\n",
    "fes12 = sp.make_foreis(db.get_foreis_df(es12))\n",
    "fes13 = sp.make_foreis(db.get_foreis_df(es13))\n",
    "fes14 = sp.make_foreis(db.get_foreis_df(es14))\n",
    "fes15 = sp.make_foreis(db.get_foreis_df(es15))"
   ]
  },
  {
   "cell_type": "code",
   "execution_count": 11,
   "metadata": {
    "collapsed": false
   },
   "outputs": [
    {
     "name": "stderr",
     "output_type": "stream",
     "text": [
      "/Users/nikolaosioannou/anaconda/lib/python2.7/site-packages/ipykernel/__main__.py:9: FutureWarning: sort(columns=....) is deprecated, use sort_values(by=.....)\n"
     ]
    },
    {
     "data": {
      "image/png": "[encoded data removed]",
      "text/plain": [
       "<matplotlib.figure.Figure at 0x10783b910>"
      ]
     },
     "metadata": {},
     "output_type": "display_data"
    }
   ],
   "source": [
    "#Ενοποιούμε τα ποσοστά μεταβολής των τριών ετών σε ένα dataframe\n",
    "fes = pd.merge(fes12,fes13,how='inner',on='foreas',suffixes=('_12','_13'))\n",
    "fes = pd.merge(fes,fes14,how='inner',on='foreas')\n",
    "fes = pd.merge(fes,fes15,how='inner',on='foreas',suffixes=('_14','_15'))\n",
    "\n",
    "fes['turn_12_13'] = fes.pct_diam_13 - fes.pct_diam_12\n",
    "fes['turn_13_14'] = fes.pct_diam_14 - fes.pct_diam_13\n",
    "fes['turn_14_15'] = fes.pct_diam_15 - fes.pct_diam_14\n",
    "sort_fes = fes.sort(['turn_13_14'], ascending=[0])\n",
    "ax = sort_fes[['turn_12_13','turn_13_14','turn_14_15']].plot(kind='bar', figsize=(12,8))\n",
    "a = ax.set_xticklabels(list(sort_fes['foreas']))"
   ]
  },
  {
   "cell_type": "markdown",
   "metadata": {},
   "source": [
    "###ΕΞΟΔΑ"
   ]
  },
  {
   "cell_type": "code",
   "execution_count": null,
   "metadata": {
    "collapsed": true
   },
   "outputs": [],
   "source": [
    "#Διαβάζουμε μόνο τους φορείς\n",
    "fex12 = sp.make_foreis(db.get_foreis_df(ex12))\n",
    "fex13 = sp.make_foreis(db.get_foreis_df(ex13))\n",
    "fex14 = sp.make_foreis(db.get_foreis_df(ex14))\n",
    "fex15 = sp.make_foreis(db.get_foreis_df(ex15))"
   ]
  },
  {
   "cell_type": "code",
   "execution_count": 4,
   "metadata": {
    "collapsed": false
   },
   "outputs": [
    {
     "name": "stderr",
     "output_type": "stream",
     "text": [
      "/Users/nikolaosioannou/anaconda/lib/python2.7/site-packages/ipykernel/__main__.py:11: FutureWarning: sort(columns=....) is deprecated, use sort_values(by=.....)\n"
     ]
    },
    {
     "data": {
      "image/png": "[encoded data removed]",
      "text/plain": [
       "<matplotlib.figure.Figure at 0x10a6eb8d0>"
      ]
     },
     "metadata": {},
     "output_type": "display_data"
    }
   ],
   "source": [
    "#Ενοποιούμε τα ποσοστά μεταβολής των τριών ετών σε ένα dataframe\n",
    "fex = pd.merge(fex12,fex13,how='inner',on='foreas',suffixes=('_12','_13'))\n",
    "fex = pd.merge(fex,fex14,how='inner',on='foreas')\n",
    "fex = pd.merge(fex,fex15,how='inner',on='foreas',suffixes=('_14','_15'))\n",
    "\n",
    "fex['turn_12_13'] = fex.pct_diam_13 - fex.pct_diam_12\n",
    "fex['turn_13_14'] = fex.pct_diam_14 - fex.pct_diam_13\n",
    "fex['turn_14_15'] = fex.pct_diam_15 - fex.pct_diam_14\n",
    "sort_fex = fex.sort(['turn_13_14'], ascending=[0])\n",
    "ax1 = sort_fex[['turn_12_13','turn_13_14','turn_14_15']].plot(kind='bar', figsize=(12,8))\n",
    "a = ax1.set_xticklabels(list(sort_fex['foreas']))"
   ]
  },
  {
   "cell_type": "markdown",
   "metadata": {},
   "source": [
    "##Ανάλυση με βάση τη χιλιάδα ΚΑΕ"
   ]
  },
  {
   "cell_type": "markdown",
   "metadata": {},
   "source": [
    "##Ανάλυση με βάση την εκατοντάδα ΚΑΕ"
   ]
  },
  {
   "cell_type": "markdown",
   "metadata": {},
   "source": [
    "###Επεξεργασία ταμειακών υπολοίπων"
   ]
  },
  {
   "cell_type": "code",
   "execution_count": 8,
   "metadata": {
    "collapsed": false
   },
   "outputs": [
    {
     "name": "stdout",
     "output_type": "stream",
     "text": [
      "8934996.69\n"
     ]
    }
   ],
   "source": [
    "r = sp.compute_tameiako_enotitas_xronia(es12,'04')\n",
    "print('%8.2f'%(r,))"
   ]
  },
  {
   "cell_type": "markdown",
   "metadata": {},
   "source": [
    "## Q & A's"
   ]
  },
  {
   "cell_type": "markdown",
   "metadata": {},
   "source": [
    "<b>Ε1.</b>Επικύρωση των αθροισμάτων των εκατοντάδων  "
   ]
  },
  {
   "cell_type": "code",
   "execution_count": null,
   "metadata": {
    "collapsed": false
   },
   "outputs": [],
   "source": [
    "study_year = 2012\n",
    "study_enotita = None\n",
    "study_xiliada = u'0'\n",
    "dfes = {2012:es12, 2013:es13, 2014:es14}\n",
    "dfex = {2012:ex12, 2013:ex13, 2014:ex14}\n",
    "study_df = dfes[2012]\n",
    "study_df = study_df[(study_df.logar.str.len()>9) & (study_df.xilia == study_xiliada)].copy()\n",
    "if study_enotita != None:\n",
    "    study_df = study_df[(study_df.enotita == study_enotita)]\n",
    "#validation \n",
    "study_df[study_df.logar.str[11:14]=='000'].eggekrimenos.sum() - study_df[(study_df.ekato!='0') & (study_df.logar.str[12:14]=='00')].eggekrimenos.sum()"
   ]
  },
  {
   "cell_type": "code",
   "execution_count": null,
   "metadata": {
    "collapsed": false
   },
   "outputs": [],
   "source": [
    "df = dfes[study_year]\n",
    "df = df[(df.logar.str.len()>9) & (df.logar.str[11:14]=='000')]\n",
    "pvt1 = df.pivot_table(values='eggekrimenos', index='xilia', columns='enotita', aggfunc='sum')\n",
    "\n",
    "pvt2 = df.pivot_table(values='diamorfomenos', index='xilia', columns='enotita', aggfunc='sum')\n",
    "\n",
    "pvt_diff = pvt2 - pvt1\n",
    "pvt_diff.sum(1)"
   ]
  },
  {
   "cell_type": "code",
   "execution_count": null,
   "metadata": {
    "collapsed": true
   },
   "outputs": [],
   "source": [
    "pvt = df.pivot_table"
   ]
  },
  {
   "cell_type": "markdown",
   "metadata": {},
   "source": [
    "<b>Ε1</b>. Το άθροισμα του διαμορφωμένου που προκείπτει από τη λήψη μόνο των φορέων είναι ίδιος με αυτό που προκύπτει από τις χιλιάδες ΚΑΕ? "
   ]
  },
  {
   "cell_type": "code",
   "execution_count": null,
   "metadata": {
    "collapsed": false
   },
   "outputs": [],
   "source": [
    "es_foreis = db.get_foreis_df(es)[['year','foreas','kae','diamorfomenos','logar']]\n",
    "es_xilia = db.get_xilia_df(es)[['year','foreas','kae','diamorfomenos','logar']]\n",
    "es_ekato = db.get_ekato_df(es)[['year','foreas','kae','diamorfomenos','logar']]\n",
    "es_deka = db.get_deka_df(es)[['year','foreas','kae','diamorfomenos','logar']]\n",
    "\n",
    "yr = 2014\n",
    "grp_foreis = es_foreis[es_foreis.year == yr][['foreas','diamorfomenos']].groupby(by='foreas', as_index=False).sum()\n",
    "grp_xilia = es_xilia[es_xilia.year == yr][['foreas','diamorfomenos']].groupby(by='foreas', as_index=False).sum()\n",
    "grp_ekato = es_ekato[es_ekato.year == yr][['foreas','diamorfomenos']].groupby(by='foreas', as_index=False).sum()\n",
    "grp_deka = es_deka[es_deka.year == yr][['foreas','diamorfomenos']].groupby(by='foreas', as_index=False).sum()\n",
    "\n",
    "grpfx = pd.merge(grp_foreis, grp_xilia, on=['foreas'], suffixes=('_f','_x'))\n",
    "grped = pd.merge(grp_ekato, grp_deka, on=['foreas'], suffixes=('_e','_d'))\n",
    "grp = pd.merge(grpfx,grped,on='foreas')\n",
    "\n",
    "grp['has_diff_xilia'] = np.ceil(grp.diamorfomenos_f) != np.ceil(grp.diamorfomenos_x)\n",
    "grp['has_diff_ekato'] = np.ceil(grp.diamorfomenos_f) != np.ceil(grp.diamorfomenos_e)\n",
    "grp['has_diff_deka'] = np.ceil(grp.diamorfomenos_f) != np.ceil(grp.diamorfomenos_d)\n",
    "grp[grp.has_diff_xilia & grp.has_diff_ekato & grp.has_diff_deka]"
   ]
  },
  {
   "cell_type": "code",
   "execution_count": null,
   "metadata": {
    "collapsed": false
   },
   "outputs": [],
   "source": [
    "es_xilia[(es_xilia.foreas == '293') & (es_xilia.year == yr)]"
   ]
  },
  {
   "cell_type": "code",
   "execution_count": null,
   "metadata": {
    "collapsed": false
   },
   "outputs": [],
   "source": [
    "es.columns"
   ]
  },
  {
   "cell_type": "code",
   "execution_count": null,
   "metadata": {
    "collapsed": false
   },
   "outputs": [],
   "source": [
    "temp = es12[(es12.xilia=='1')&(es12.ekato=='2')][['foreas','kae','eggekrimenos','diamorfomenos']]\n",
    "temp[temp.diamorfomenos!=0.]"
   ]
  },
  {
   "cell_type": "code",
   "execution_count": null,
   "metadata": {
    "collapsed": false
   },
   "outputs": [],
   "source": [
    "#Base dataframe\n",
    "base = es13\n",
    "t1 = base[(base.logar.str.len()>9) & (base.enotita=='01') & (base.xilia==u'9')]\n",
    "#grp = t1[t1.xilia==u'0'].groupby(['enotita','xilia','ekato','deka','ena'], as_index=False).aggregate(np.sum)\n",
    "grp = t1.groupby(['ekato','deka','ena'], as_index=False).aggregate(np.sum)\n",
    "#Eliminate zero diamorfomenos\n",
    "grp = grp[grp.diamorfomenos>0]\n",
    "grp\n"
   ]
  },
  {
   "cell_type": "code",
   "execution_count": null,
   "metadata": {
    "collapsed": false
   },
   "outputs": [],
   "source": [
    "grp.ix[0,'diamorfomenos'] - (grp.ix[4,'diamorfomenos'] + grp.ix[35,'diamorfomenos'])"
   ]
  },
  {
   "cell_type": "code",
   "execution_count": null,
   "metadata": {
    "collapsed": false
   },
   "outputs": [],
   "source": [
    "#VALIDATE HUNDREDS\n",
    "dfes[2013]"
   ]
  },
  {
   "cell_type": "code",
   "execution_count": null,
   "metadata": {
    "collapsed": false
   },
   "outputs": [],
   "source": [
    "temp = ex12[(ex12.enotita=='01') & (ex12.logar.str.len()==9)]\n",
    "#Πάρε μόνο τους φορείς \n",
    "foreis = ex12[(ex12.logar.str.len()==9) & (ex12.diamorfomenos!=0)]\n",
    "pvtforeis = foreis.pivot_table('diamorfomenos',index='foreas',columns='enotita',aggfunc='sum')\n",
    "pvtforeis / 1000000"
   ]
  },
  {
   "cell_type": "code",
   "execution_count": null,
   "metadata": {
    "collapsed": false
   },
   "outputs": [],
   "source": [
    "pvtforeis.sum(1) / 1000000"
   ]
  },
  {
   "cell_type": "code",
   "execution_count": null,
   "metadata": {
    "collapsed": false
   },
   "outputs": [],
   "source": [
    "pvtforeis.div(pvtforeis.sum(1),axis=0).plot(kind='bar',stacked=True, figsize=(16,11))"
   ]
  },
  {
   "cell_type": "markdown",
   "metadata": {},
   "source": [
    "#ΠΑΡΑΚΟΛΟΥΘΗΣΗ ΤΩΝ ΑΝΑΜΟΡΦΩΣΕΩΝ ΑΝΑ ΦΟΡΕΑ"
   ]
  },
  {
   "cell_type": "code",
   "execution_count": null,
   "metadata": {
    "collapsed": false
   },
   "outputs": [],
   "source": [
    "def get_active_foreis(df):\n",
    "    return df[(df.logar.str.len()==9) & ((df.diamorfomenos!=0) | (df.eggekrimenos != 0))] \n",
    "def get_active_xilia(df):\n",
    "    return df[(df.logar.str.len()>9) & ((df.diamorfomenos!=0) | (df.eggekrimenos != 0)) & (df.logar.str[11:14]=='000')]\n",
    "#Έσοδα\n",
    "my_fields = ['enotita','foreas','xilia','eggekrimenos','diamorfomenos','anamorfoseis']\n",
    "fes12 = get_active_foreis(dfes[2012])\n",
    "fes13 = get_active_foreis(dfes[2013])\n",
    "fes14 = get_active_foreis(dfes[2014])\n",
    "fes = pd.merge(fes12[my_fields],fes13[my_fields],on=['enotita','foreas'],suffixes=['_12','_13'],how='outer')\n",
    "fes = pd.merge(fes,fes14[my_fields],on=['enotita','foreas'],how='outer')\n",
    "grp1 = fes.groupby('enotita',as_index=False).sum()\n",
    "grp1['pct12'] = grp1.diamorfomenos_12 / grp1.eggekrimenos_12\n",
    "grp1['pct13'] = grp1.diamorfomenos_13 / grp1.eggekrimenos_13\n",
    "grp1['pct14'] = grp1.diamorfomenos / grp1.eggekrimenos\n",
    "grp1[['pct12','pct13','pct14']].plot(title='Synolika Pososta Anamorfoseon Esodon ana Enotita',figsize=(10,6))\n",
    "\n",
    "\n",
    "#Έξοδα\n",
    "fex12 = get_active_foreis(dfex[2012])\n",
    "fex13 = get_active_foreis(dfex[2013])\n",
    "fex14 = get_active_foreis(dfex[2014])\n",
    "fex = pd.merge(fex12[my_fields],fex13[my_fields],on=['enotita','foreas'],suffixes=['_12','_13'],how='outer')\n",
    "fex = pd.merge(fex,fex14[my_fields],on=['enotita','foreas'],how='outer')\n",
    "grp2 = fex.groupby('enotita',as_index=False).sum()\n",
    "grp2['pct12'] = grp2.diamorfomenos_12 / grp2.eggekrimenos_12\n",
    "grp2['pct13'] = grp2.diamorfomenos_13 / grp2.eggekrimenos_13\n",
    "grp2['pct14'] = grp2.diamorfomenos / grp2.eggekrimenos\n",
    "grp2[['pct12','pct13','pct14']].plot(title='Synolika Pososta Anamorfoseon Exodon ana Enotita',figsize=(10,6))"
   ]
  },
  {
   "cell_type": "code",
   "execution_count": null,
   "metadata": {
    "collapsed": false
   },
   "outputs": [],
   "source": [
    "#Χρήση φορέων από περιφερειακές ενότητες σε έξοδα\n",
    "fex.pivot_table('diamorfomenos', index='foreas',columns='enotita',aggfunc='count')"
   ]
  },
  {
   "cell_type": "code",
   "execution_count": null,
   "metadata": {
    "collapsed": false
   },
   "outputs": [],
   "source": [
    "#Χρήση φορέων από περιφερειακές ενότητες σε έσοδα\n",
    "fes.pivot_table('diamorfomenos', index='foreas',columns='enotita',aggfunc='count')"
   ]
  },
  {
   "cell_type": "code",
   "execution_count": null,
   "metadata": {
    "collapsed": true
   },
   "outputs": [],
   "source": [
    "def create_pivot_tables(cur_year):\n",
    "    ex = get_active_xilia(dfex[cur_year])[my_fields]\n",
    "    p1 = ex.pivot_table('xilia',index='foreas',columns='enotita',aggfunc='count',margins=True)\n",
    "    p2 = ex.pivot_table('enotita',index='foreas',columns='xilia',aggfunc='count',fill_value=0,margins=True)\n",
    "    p3 = ex.pivot_table('foreas',index='enotita',columns='xilia',aggfunc='count',fill_value=0,margins=True)\n",
    "    return p1, p2, p3"
   ]
  },
  {
   "cell_type": "code",
   "execution_count": null,
   "metadata": {
    "collapsed": false
   },
   "outputs": [],
   "source": [
    "p12_1, p12_2, p12_3 = create_pivot_tables(2012)\n",
    "p13_1, p13_2, p13_3 = create_pivot_tables(2013)\n",
    "p14_1, p14_2, p14_3 = create_pivot_tables(2014)"
   ]
  },
  {
   "cell_type": "code",
   "execution_count": null,
   "metadata": {
    "collapsed": false
   },
   "outputs": [],
   "source": [
    "print '2012\\n\\n', p12_1, '\\n\\n' , p12_2, '\\n\\n', p12_3"
   ]
  },
  {
   "cell_type": "code",
   "execution_count": null,
   "metadata": {
    "collapsed": false
   },
   "outputs": [],
   "source": [
    "print '2013\\n\\n', p13_1, '\\n\\n' , p13_2, '\\n\\n', p13_3"
   ]
  },
  {
   "cell_type": "code",
   "execution_count": null,
   "metadata": {
    "collapsed": false
   },
   "outputs": [],
   "source": [
    "print '2014\\n\\n', p14_1, '\\n\\n' , p14_2, '\\n\\n', p14_3"
   ]
  },
  {
   "cell_type": "code",
   "execution_count": null,
   "metadata": {
    "collapsed": false
   },
   "outputs": [],
   "source": [
    "print '2012 - 2013\\n\\n', p12_1 - p13_1, '\\n\\n',  p12_2 - p13_2, '\\n\\n',  p12_3 - p13_3"
   ]
  },
  {
   "cell_type": "code",
   "execution_count": null,
   "metadata": {
    "collapsed": false
   },
   "outputs": [],
   "source": [
    "print '2012 - 2014\\n\\n', p12_1 - p14_1, '\\n\\n',  p12_2 - p14_2, '\\n\\n',  p12_3 - p14_3"
   ]
  },
  {
   "cell_type": "code",
   "execution_count": null,
   "metadata": {
    "collapsed": false
   },
   "outputs": [],
   "source": [
    "print '2013 - 2014\\n\\n', p13_1 - p14_1, '\\n\\n',  p13_2 - p14_2, '\\n\\n',  p13_3 - p14_3"
   ]
  },
  {
   "cell_type": "code",
   "execution_count": 54,
   "metadata": {
    "collapsed": false
   },
   "outputs": [
    {
     "data": {
      "text/plain": [
       "0.0"
      ]
     },
     "execution_count": 54,
     "metadata": {},
     "output_type": "execute_result"
    }
   ],
   "source": [
    "ex14[(ex14.foreas=='192') & ((ex14.xilia=='2'))]['diamorfomenos'].sum()"
   ]
  },
  {
   "cell_type": "code",
   "execution_count": 45,
   "metadata": {
    "collapsed": false
   },
   "outputs": [
    {
     "ename": "SyntaxError",
     "evalue": "invalid syntax (<ipython-input-45-7ea828eaebc0>, line 2)",
     "output_type": "error",
     "traceback": [
      "\u001b[0;36m  File \u001b[0;32m\"<ipython-input-45-7ea828eaebc0>\"\u001b[0;36m, line \u001b[0;32m2\u001b[0m\n\u001b[0;31m    fdi['071'][]\u001b[0m\n\u001b[0m               ^\u001b[0m\n\u001b[0;31mSyntaxError\u001b[0m\u001b[0;31m:\u001b[0m invalid syntax\n"
     ]
    }
   ],
   "source": [
    "fdi = pd.Series(defs.foreis_dict)\n",
    "fdi['071']"
   ]
  },
  {
   "cell_type": "code",
   "execution_count": null,
   "metadata": {
    "collapsed": true
   },
   "outputs": [],
   "source": []
  }
 ],
 "metadata": {
  "kernelspec": {
   "display_name": "Python 2",
   "language": "python",
   "name": "python2"
  },
  "language_info": {
   "codemirror_mode": {
    "name": "ipython",
    "version": 2
   },
   "file_extension": ".py",
   "mimetype": "text/x-python",
   "name": "python",
   "nbconvert_exporter": "python",
   "pygments_lexer": "ipython2",
   "version": "2.7.11"
  }
 },
 "nbformat": 4,
 "nbformat_minor": 0
}
