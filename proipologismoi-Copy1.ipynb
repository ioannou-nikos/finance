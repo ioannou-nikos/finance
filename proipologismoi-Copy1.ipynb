{
 "cells": [
  {
   "cell_type": "code",
   "execution_count": null,
   "metadata": {
    "collapsed": false
   },
   "outputs": [],
   "source": [
    "%pylab inline\n",
    "import pandas as pd\n",
    "import numpy as np\n",
    "#Set thousands separator\n",
    "pd.set_option('display.float_format', lambda x: '{:,.2f}'.format(x))\n",
    "#Import my functions\n",
    "import fin_functions as funcs"
   ]
  },
  {
   "cell_type": "code",
   "execution_count": null,
   "metadata": {
    "collapsed": true
   },
   "outputs": [],
   "source": [
    "#Set the columns names for exoda\n",
    "exnames = ['logar','perigrafi','proteinomenos','eggekrimenos','anamorfoseis','diamorfomenos','desmefthenta','entalthenta','proplirothenta','plirothenta']\n",
    "#Set the columns names for esoda\n",
    "esnames = ['logar','perigrafi','proteinomenos','eggekrimenos','anamorfoseis','diamorfomenos']"
   ]
  },
  {
   "cell_type": "code",
   "execution_count": null,
   "metadata": {
    "collapsed": true
   },
   "outputs": [],
   "source": [
    "#Set an array for the filenames\n",
    "ex_names = ['ex_2012','ex_2013','ex_2014']\n",
    "es_names = ['es_2012','es_2013','es_2014']"
   ]
  },
  {
   "cell_type": "code",
   "execution_count": null,
   "metadata": {
    "collapsed": false
   },
   "outputs": [],
   "source": [
    "exdfs = {}\n",
    "for dfname in ex_names: \n",
    "    #print dfname\n",
    "    exdfs[dfname] = pd.read_excel(dfname +'.xls',sheetname=0,header=None,skiprows=1, parse_cols='A:J',names=exnames)\n",
    "    \n",
    "esdfs = {}\n",
    "for dfname in es_names:\n",
    "    #print dfname\n",
    "    esdfs[dfname] = pd.read_excel(dfname +'.xls',sheetname=0,header=None,skiprows=1, parse_cols='A:F',names=esnames)"
   ]
  },
  {
   "cell_type": "markdown",
   "metadata": {},
   "source": [
    "###Δημιουργία των απαιτούμενων dataframes για ανάλυση με βάση το φορέα"
   ]
  },
  {
   "cell_type": "code",
   "execution_count": null,
   "metadata": {
    "collapsed": false
   },
   "outputs": [],
   "source": [
    "reload(funcs)\n",
    "ex_foreas_13 = funcs.build_dataframe_forea(exdfs['ex_2013']) \n",
    "es_foreas_13 = funcs.build_dataframe_forea(esdfs['es_2013'])\n",
    "\n",
    "ex_foreas_14 = funcs.build_dataframe_forea(exdfs['ex_2014']) \n",
    "es_foreas_14 = funcs.build_dataframe_forea(esdfs['es_2014'])"
   ]
  },
  {
   "cell_type": "markdown",
   "metadata": {},
   "source": [
    "### Ενοποίηση του 2013 με βάση την ενότητα_φορέα και ανάλυση."
   ]
  },
  {
   "cell_type": "code",
   "execution_count": null,
   "metadata": {
    "collapsed": false
   },
   "outputs": [],
   "source": [
    "merged = pd.merge(es_foreas_13,ex_foreas_13,on='foreas_enotita')\n",
    "reload(funcs)\n",
    "merged = funcs.calculate_diffs_on_year(merged)\n",
    "merged.columns"
   ]
  },
  {
   "cell_type": "markdown",
   "metadata": {
    "collapsed": false
   },
   "source": [
    "#### Δημιουργία μερικών γραφημάτων για το 2013"
   ]
  },
  {
   "cell_type": "code",
   "execution_count": null,
   "metadata": {
    "collapsed": false
   },
   "outputs": [],
   "source": [
    "pivot_enotita = merged.pivot_table('plirothenta',index='enotita_y',columns='foreas_y',aggfunc=sum)\n",
    "normed_pivot_enotita = pivot_enotita.div(pivot_enotita.sum(1),axis=0)\n",
    "from matplotlib import cm\n",
    "cmap = cm.get_cmap('spectral')\n",
    "normed_pivot_enotita.plot(kind='bar',stacked=True, figsize=(12,8), colormap=cmap)"
   ]
  },
  {
   "cell_type": "code",
   "execution_count": null,
   "metadata": {
    "collapsed": false
   },
   "outputs": [],
   "source": [
    "normed_pivot_enotita"
   ]
  },
  {
   "cell_type": "code",
   "execution_count": null,
   "metadata": {
    "collapsed": false
   },
   "outputs": [],
   "source": [
    "filter_merged = merged[merged.foreas_y == '071'].copy()\n",
    "filter_merged[['foreas_y','perigrafi_y','enotita_y','plirothenta']]"
   ]
  },
  {
   "cell_type": "code",
   "execution_count": null,
   "metadata": {
    "collapsed": false
   },
   "outputs": [],
   "source": [
    "pivot_forea = merged.pivot_table('plirothenta',index='foreas_y',columns='enotita_y',aggfunc=sum)\n",
    "normed_pivot_forea = pivot_forea.div(pivot_forea.sum(1),axis=0)\n",
    "normed_pivot_forea.plot(kind='bar',stacked=True, figsize=(12,8), colormap=cmap)"
   ]
  },
  {
   "cell_type": "code",
   "execution_count": null,
   "metadata": {
    "collapsed": false
   },
   "outputs": [],
   "source": [
    "normed_pivot_forea"
   ]
  },
  {
   "cell_type": "code",
   "execution_count": null,
   "metadata": {
    "collapsed": false
   },
   "outputs": [],
   "source": [
    "filter_merged = merged[merged.foreas_y == '293'].copy()\n",
    "filter_merged[['foreas_y','perigrafi_y','enotita_y','plirothenta','entalthenta','desmefthenta']]"
   ]
  },
  {
   "cell_type": "markdown",
   "metadata": {},
   "source": [
    "#Καλό είναι να δωθεί ιδιαίτερη προσοχή στους φορείς 721, 722, 723"
   ]
  },
  {
   "cell_type": "markdown",
   "metadata": {},
   "source": [
    "### Ενοποίηση του 2014 με βάση την ενότητα_φορέα και ανάλυση."
   ]
  },
  {
   "cell_type": "code",
   "execution_count": null,
   "metadata": {
    "collapsed": false
   },
   "outputs": [],
   "source": [
    "merged = pd.merge(es_foreas_14,ex_foreas_14,on='foreas_enotita')\n",
    "reload(funcs)\n",
    "merged = funcs.calculate_diffs_on_year(merged)\n",
    "merged.columns"
   ]
  },
  {
   "cell_type": "markdown",
   "metadata": {},
   "source": [
    "#### Δημιουργία μερικών γραφημάτων για το 2014"
   ]
  },
  {
   "cell_type": "code",
   "execution_count": null,
   "metadata": {
    "collapsed": false
   },
   "outputs": [],
   "source": [
    "pivot_enotita = merged.pivot_table('plirothenta',index='enotita_y',columns='foreas_y',aggfunc=sum)\n",
    "normed_pivot_enotita = pivot_enotita.div(pivot_enotita.sum(1),axis=0)\n",
    "from matplotlib import cm\n",
    "cmap = cm.get_cmap('spectral')\n",
    "normed_pivot_enotita.plot(kind='bar',stacked=True, figsize=(12,8), colormap=cmap)"
   ]
  },
  {
   "cell_type": "code",
   "execution_count": null,
   "metadata": {
    "collapsed": false
   },
   "outputs": [],
   "source": [
    "normed_pivot_enotita"
   ]
  },
  {
   "cell_type": "code",
   "execution_count": null,
   "metadata": {
    "collapsed": false
   },
   "outputs": [],
   "source": [
    "filter_merged = merged[merged.foreas_y == '071'].copy()\n",
    "filter_merged[['foreas_y','perigrafi_y','enotita_y','plirothenta']]"
   ]
  },
  {
   "cell_type": "code",
   "execution_count": null,
   "metadata": {
    "collapsed": false
   },
   "outputs": [],
   "source": [
    "pivot_forea = merged.pivot_table('plirothenta',index='foreas_y',columns='enotita_y',aggfunc=sum)\n",
    "normed_pivot_forea = pivot_forea.div(pivot_forea.sum(1),axis=0)\n",
    "normed_pivot_forea.plot(kind='bar',stacked=True, figsize=(12,8), colormap=cmap)"
   ]
  },
  {
   "cell_type": "code",
   "execution_count": null,
   "metadata": {
    "collapsed": false
   },
   "outputs": [],
   "source": [
    "normed_pivot_forea"
   ]
  },
  {
   "cell_type": "code",
   "execution_count": null,
   "metadata": {
    "collapsed": false
   },
   "outputs": [],
   "source": [
    "filter_merged = merged[merged.foreas_y == '293'].copy()\n",
    "filter_merged[['foreas_y','perigrafi_y','enotita_y','plirothenta','entalthenta','desmefthenta']]"
   ]
  },
  {
   "cell_type": "markdown",
   "metadata": {},
   "source": [
    "##Πλήρης Ενοποίηση"
   ]
  },
  {
   "cell_type": "code",
   "execution_count": null,
   "metadata": {
    "collapsed": false
   },
   "outputs": [],
   "source": [
    "def make_g(df):\n",
    "    diam = df[['foreas','diamorfomenos','desmefthenta','entalthenta','plirothenta']]\n",
    "    grp = diam.groupby('foreas') \n",
    "    g = grp.agg({'foreas': lambda x: x.iloc[0],'diamorfomenos':\"sum\",'desmefthenta':\"sum\",'entalthenta':\"sum\",'plirothenta':\"sum\"})\n",
    "    return g\n",
    "\n",
    "def make_g2(df):\n",
    "    diam = df[['enotita','foreas','diamorfomenos','desmefthenta','entalthenta','plirothenta']]\n",
    "    grp = diam.groupby(['foreas','enotita'])\n",
    "    return grp\n",
    "\n",
    "g13 = make_g(ex_foreas_13)\n",
    "g14 = make_g(ex_foreas_14)\n",
    "\n",
    "gg13 = make_g2(ex_foreas_13)\n",
    "gg14 = make_g2(ex_foreas_14)"
   ]
  },
  {
   "cell_type": "code",
   "execution_count": null,
   "metadata": {
    "collapsed": false
   },
   "outputs": [],
   "source": [
    "g13.sum()"
   ]
  },
  {
   "cell_type": "code",
   "execution_count": null,
   "metadata": {
    "collapsed": false
   },
   "outputs": [],
   "source": [
    "g14.sum()"
   ]
  },
  {
   "cell_type": "code",
   "execution_count": null,
   "metadata": {
    "collapsed": false
   },
   "outputs": [],
   "source": [
    "gm = pd.merge(g13,g14,on=\"foreas\")\n",
    "gm[['desmefthenta_x','desmefthenta_y']].plot(kind='bar')"
   ]
  },
  {
   "cell_type": "code",
   "execution_count": null,
   "metadata": {
    "collapsed": false
   },
   "outputs": [],
   "source": [
    "df = exdfs['ex_2014']\n",
    "df[(df.logar.str[11:]=='000') & (df.logar.str[3:5]=='01') & (df.diamorfomenos != 0)]"
   ]
  },
  {
   "cell_type": "code",
   "execution_count": null,
   "metadata": {
    "collapsed": false
   },
   "outputs": [],
   "source": [
    "reload(funcs)\n",
    "df = funcs.format_dataframe(df)"
   ]
  },
  {
   "cell_type": "code",
   "execution_count": null,
   "metadata": {
    "collapsed": false
   },
   "outputs": [],
   "source": [
    "df[(df.kae == '9000') & (df.foreas == '721')]"
   ]
  },
  {
   "cell_type": "code",
   "execution_count": null,
   "metadata": {
    "collapsed": false
   },
   "outputs": [],
   "source": [
    "#Γράφημα χιλιάδας\n",
    "target_var = 'eggekrimenos'\n",
    "df1 = df[df.last_three == '000'].iloc[:,2:]\n",
    "df2 = df1.pivot_table(target_var,index='enotita',columns='kae',aggfunc='sum')\n",
    "df3 = df2.div(df2.sum(1),axis=0)\n",
    "df3.plot(kind='bar',stacked=True,colormap=cmap,figsize=(12,8))\n"
   ]
  },
  {
   "cell_type": "code",
   "execution_count": null,
   "metadata": {
    "collapsed": false
   },
   "outputs": [],
   "source": [
    "#Ανάλυση χιλιάδων σε εκατοντάδες - Μόνο το 0000 που είναι και ο κύριος όγκος\n",
    "titles={'0':'PLIROMES GIA YPIRESIES',\n",
    "        '1':'PROMITHIES AGATHWN KAI KEFALAIAKOY EXOPLISMOU',\n",
    "        '2':'PLIROMES METABIBASTIKES',\n",
    "        '3':'PLIROMES POU ANTIKRIZONTAI APO PRAGMATOPOIOUMENA ESODA',\n",
    "        '4':'DAPANES NATO APO KRATOI MELH',\n",
    "        '5':'DAPANES POU DEN ENTASSONTAI SE ALLES KATIGORIES',\n",
    "        '6':'PLIROMES GIA THN EXYPHRETHSH THS DHMOSIAS PISTIS',\n",
    "        '7':'APALOTRIOSEIS, AGORES, ANEGERSEIS ...',\n",
    "        '8':'PLIROMES GIA ERGA P.D.E',\n",
    "        '9':'PLIROMES GIA EPENDISEIS'}\n",
    "for i in '0':\n",
    "    df1 = df[(df.xiliada == i) & (df.last_two == '00') & (df.last_three != '000')].iloc[:,2:]\n",
    "    df2 = df1.pivot_table('plirothenta',index='enotita',columns='kae',aggfunc='sum')\n",
    "    df3 = df2.div(df2.sum(1),axis=0)\n",
    "    df3.plot(kind='bar',stacked=True,colormap=cmap,figsize=(12,8),title=titles[i])"
   ]
  },
  {
   "cell_type": "code",
   "execution_count": null,
   "metadata": {
    "collapsed": false
   },
   "outputs": [],
   "source": [
    "#Ανάλυση χιλιάδων σε εκατοντάδες - Οι υπόλοιπες χωρίς τη 0000\n",
    "for i in '123456789':\n",
    "    df1 = df[(df.xiliada == i) & (df.last_two == '00') & (df.last_three != '000')].iloc[:,2:]\n",
    "    df2 = df1.pivot_table('plirothenta',index='enotita',columns='kae',aggfunc='sum')\n",
    "    df3 = df2.div(df2.sum(1),axis=0)\n",
    "    df3.plot(kind='bar',stacked=True,colormap=cmap,figsize=(12,8),title=titles[i])"
   ]
  },
  {
   "cell_type": "code",
   "execution_count": null,
   "metadata": {
    "collapsed": false
   },
   "outputs": [],
   "source": [
    "#Καταγραφή των λογαριασμών που αντιστοιχούν σε φορείς\n",
    "foreis = df[(df.logar.str.len() == 9) & (df.enotita == '01')]\n",
    "foreis = foreis[['foreas','perigrafi']]\n",
    "foreis"
   ]
  },
  {
   "cell_type": "code",
   "execution_count": null,
   "metadata": {
    "collapsed": false
   },
   "outputs": [],
   "source": [
    "#Ανάλυση σε δεκάδες\n",
    "temp = df[(df.xiliada == '0') & (df.logar.str[-3:-2] == '8') & (df.logar.str[-2:-1] != '0')  ]\n",
    "t = df[(df.kae == '0873') & (df.eggekrimenos != 0)]\n",
    "t[['logar','perigrafi','eggekrimenos']]"
   ]
  },
  {
   "cell_type": "code",
   "execution_count": null,
   "metadata": {
    "collapsed": false
   },
   "outputs": [],
   "source": [
    "temp"
   ]
  },
  {
   "cell_type": "code",
   "execution_count": null,
   "metadata": {
    "collapsed": true
   },
   "outputs": [],
   "source": []
  },
  {
   "cell_type": "code",
   "execution_count": null,
   "metadata": {
    "collapsed": true
   },
   "outputs": [],
   "source": []
  },
  {
   "cell_type": "code",
   "execution_count": null,
   "metadata": {
    "collapsed": true
   },
   "outputs": [],
   "source": []
  }
 ],
 "metadata": {
  "kernelspec": {
   "display_name": "Python 2",
   "language": "python",
   "name": "python2"
  },
  "language_info": {
   "codemirror_mode": {
    "name": "ipython",
    "version": 2
   },
   "file_extension": ".py",
   "mimetype": "text/x-python",
   "name": "python",
   "nbconvert_exporter": "python",
   "pygments_lexer": "ipython2",
   "version": "2.7.9"
  }
 },
 "nbformat": 4,
 "nbformat_minor": 0
}
