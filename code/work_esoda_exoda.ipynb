{
 "cells": [
  {
   "cell_type": "code",
   "execution_count": 1,
   "metadata": {
    "collapsed": true
   },
   "outputs": [],
   "source": [
    "#Initialization and imports\n",
    "%matplotlib inline\n",
    "%run config.py\n",
    "import dataframes as dfs\n",
    "dfBuilder = dfs.DataFramesBuilder()\n",
    "enotites = dfs.defs.enotites\n",
    "\n",
    "#Read and combine exoda\n",
    "ex12 = dfBuilder.read_exoda(\"../data/ex_2012.xls\")\n",
    "ex12['year'] = '2012'\n",
    "ex13 = dfBuilder.read_exoda(\"../data/ex_2013.xls\")\n",
    "ex13['year'] = '2013'\n",
    "ex14 = dfBuilder.read_exoda(\"../data/ex_2014.xls\")\n",
    "ex14['year'] = '2014'\n",
    "ex = ex12.append(ex13.append(ex14))\n",
    "dfBuilder.set_inner_dataframe(ex)\n",
    "ex = dfBuilder.add_extra_fields()\n",
    "\n",
    "#Read and combine esoda\n",
    "es12 = dfBuilder.read_esoda(\"../data/es_2012.xls\")\n",
    "es12['year'] = '2012'\n",
    "es13 = dfBuilder.read_esoda(\"../data/es_2013.xls\")\n",
    "es13['year'] = '2013'\n",
    "es14 = dfBuilder.read_esoda(\"../data/es_2014.xls\")\n",
    "es14['year'] = '2014'\n",
    "es = es12.append(es13.append(es14))\n",
    "dfBuilder.set_inner_dataframe(es)\n",
    "es = dfBuilder.add_extra_fields()\n"
   ]
  },
  {
   "cell_type": "code",
   "execution_count": 2,
   "metadata": {
    "collapsed": false
   },
   "outputs": [],
   "source": [
    "#Get esoda as xilia\n",
    "esd = dfBuilder.get_xilia_df(es)\n",
    "#esd = esd[(esd.enotita!='00') & (esd.xilia == '9')]\n",
    "esd = esd[(esd.enotita!='00')]\n",
    "\n",
    "#Get certain columns and group by\n",
    "esd = esd[['year','enotita','eggekrimenos','diamorfomenos']]\n",
    "esg = esd.groupby(['enotita','year']).sum()\n",
    "\n",
    "#Get exoda as xilia\n",
    "exd = dfBuilder.get_xilia_df(ex)\n",
    "#exd = exd[(exd.enotita!='00') & (exd.xilia == '9')]\n",
    "exd = exd[(exd.enotita!='00')]\n",
    "\n",
    "#Get certain columns and group by\n",
    "exd = exd[['year','enotita','eggekrimenos','diamorfomenos','desmefthenta','plirothenta']]\n",
    "exg = exd.groupby(['enotita','year']).sum()"
   ]
  },
  {
   "cell_type": "code",
   "execution_count": 3,
   "metadata": {
    "collapsed": false
   },
   "outputs": [],
   "source": [
    "#Flatten the groupby esoda\n",
    "esgd = esg.copy()\n",
    "esgd = esgd.add_suffix('_es').reset_index()\n",
    "#Flatten the groupby exoda\n",
    "exgd = exg.copy()\n",
    "exgd = exgd.add_suffix('_ex').reset_index()\n",
    "#Merge the two dataframes\n",
    "mgd = pd.merge(esgd, exgd, on=['enotita','year'])"
   ]
  },
  {
   "cell_type": "code",
   "execution_count": 4,
   "metadata": {
    "collapsed": false
   },
   "outputs": [
    {
     "data": {
      "text/plain": [
       "[<matplotlib.text.Text at 0x10467a710>,\n",
       " <matplotlib.text.Text at 0x109f65690>,\n",
       " <matplotlib.text.Text at 0x103b1fc50>,\n",
       " <matplotlib.text.Text at 0x103b2b410>,\n",
       " <matplotlib.text.Text at 0x103b2bb90>,\n",
       " <matplotlib.text.Text at 0x103b35350>,\n",
       " <matplotlib.text.Text at 0x103b35ad0>,\n",
       " <matplotlib.text.Text at 0x103b501d0>,\n",
       " <matplotlib.text.Text at 0x103b50790>,\n",
       " <matplotlib.text.Text at 0x103b50f10>,\n",
       " <matplotlib.text.Text at 0x103b5b6d0>,\n",
       " <matplotlib.text.Text at 0x103b5be50>,\n",
       " <matplotlib.text.Text at 0x103b64610>,\n",
       " <matplotlib.text.Text at 0x103b64b50>,\n",
       " <matplotlib.text.Text at 0x103b6d2d0>,\n",
       " <matplotlib.text.Text at 0x103b6da50>,\n",
       " <matplotlib.text.Text at 0x103b78210>,\n",
       " <matplotlib.text.Text at 0x103b78990>,\n",
       " <matplotlib.text.Text at 0x103b80150>,\n",
       " <matplotlib.text.Text at 0x103b808d0>,\n",
       " <matplotlib.text.Text at 0x103b89090>]"
      ]
     },
     "execution_count": 4,
     "metadata": {},
     "output_type": "execute_result"
    },
    {
     "data": {
      "image/png": "[encoded data removed]",
      "text/plain": [
       "<matplotlib.figure.Figure at 0x104660b10>"
      ]
     },
     "metadata": {},
     "output_type": "display_data"
    }
   ],
   "source": [
    "ax = mgd[['enotita','year','diamorfomenos_es','desmefthenta_ex']].plot(kind='bar')\n",
    "ax.set_xticklabels(mgd.enotita + ', ' + mgd.year)"
   ]
  },
  {
   "cell_type": "code",
   "execution_count": 6,
   "metadata": {
    "collapsed": false
   },
   "outputs": [
    {
     "data": {
      "text/html": [
       "<div>\n",
       "<table border=\"1\" class=\"dataframe\">\n",
       "  <thead>\n",
       "    <tr style=\"text-align: right;\">\n",
       "      <th></th>\n",
       "      <th>enotita</th>\n",
       "      <th>year</th>\n",
       "      <th>eggekrimenos_es</th>\n",
       "      <th>diamorfomenos_es</th>\n",
       "      <th>eggekrimenos_ex</th>\n",
       "      <th>diamorfomenos_ex</th>\n",
       "      <th>desmefthenta_ex</th>\n",
       "      <th>plirothenta_ex</th>\n",
       "      <th>diafora_es_ex</th>\n",
       "    </tr>\n",
       "  </thead>\n",
       "  <tbody>\n",
       "    <tr>\n",
       "      <th>9</th>\n",
       "      <td>04</td>\n",
       "      <td>2012</td>\n",
       "      <td>17,644,399.87</td>\n",
       "      <td>18,224,221.63</td>\n",
       "      <td>17,530,419.87</td>\n",
       "      <td>18,065,941.63</td>\n",
       "      <td>5,932,375.18</td>\n",
       "      <td>4,990,924.91</td>\n",
       "      <td>13,233,296.72</td>\n",
       "    </tr>\n",
       "    <tr>\n",
       "      <th>10</th>\n",
       "      <td>04</td>\n",
       "      <td>2013</td>\n",
       "      <td>3,185,790.00</td>\n",
       "      <td>5,940,367.14</td>\n",
       "      <td>7,537,308.47</td>\n",
       "      <td>14,668,294.46</td>\n",
       "      <td>3,876,510.13</td>\n",
       "      <td>3,219,120.78</td>\n",
       "      <td>2,721,246.36</td>\n",
       "    </tr>\n",
       "    <tr>\n",
       "      <th>11</th>\n",
       "      <td>04</td>\n",
       "      <td>2014</td>\n",
       "      <td>5,897,549.15</td>\n",
       "      <td>9,825,573.26</td>\n",
       "      <td>7,558,692.15</td>\n",
       "      <td>19,562,801.68</td>\n",
       "      <td>9,905,116.54</td>\n",
       "      <td>2,351,268.72</td>\n",
       "      <td>7,474,304.54</td>\n",
       "    </tr>\n",
       "  </tbody>\n",
       "</table>\n",
       "</div>"
      ],
      "text/plain": [
       "   enotita  year  eggekrimenos_es  diamorfomenos_es  eggekrimenos_ex  \\\n",
       "9       04  2012    17,644,399.87     18,224,221.63    17,530,419.87   \n",
       "10      04  2013     3,185,790.00      5,940,367.14     7,537,308.47   \n",
       "11      04  2014     5,897,549.15      9,825,573.26     7,558,692.15   \n",
       "\n",
       "    diamorfomenos_ex  desmefthenta_ex  plirothenta_ex  diafora_es_ex  \n",
       "9      18,065,941.63     5,932,375.18    4,990,924.91  13,233,296.72  \n",
       "10     14,668,294.46     3,876,510.13    3,219,120.78   2,721,246.36  \n",
       "11     19,562,801.68     9,905,116.54    2,351,268.72   7,474,304.54  "
      ]
     },
     "execution_count": 6,
     "metadata": {},
     "output_type": "execute_result"
    }
   ],
   "source": [
    "mgd['diafora_es_ex'] = mgd.diamorfomenos_es - mgd.plirothenta_ex\n",
    "mgden = mgd[mgd.enotita == '04']\n",
    "mgden"
   ]
  },
  {
   "cell_type": "code",
   "execution_count": null,
   "metadata": {
    "collapsed": true
   },
   "outputs": [],
   "source": []
  }
 ],
 "metadata": {
  "kernelspec": {
   "display_name": "Python 2",
   "language": "python",
   "name": "python2"
  },
  "language_info": {
   "codemirror_mode": {
    "name": "ipython",
    "version": 2
   },
   "file_extension": ".py",
   "mimetype": "text/x-python",
   "name": "python",
   "nbconvert_exporter": "python",
   "pygments_lexer": "ipython2",
   "version": "2.7.11"
  }
 },
 "nbformat": 4,
 "nbformat_minor": 0
}
