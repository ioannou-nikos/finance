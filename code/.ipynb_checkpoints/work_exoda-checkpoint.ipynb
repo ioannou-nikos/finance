{
 "cells": [
  {
   "cell_type": "code",
   "execution_count": 1,
   "metadata": {
    "collapsed": false
   },
   "outputs": [],
   "source": [
    "#Initialization and imports\n",
    "%matplotlib inline\n",
    "%run config.py\n",
    "import dataframes as dfs\n",
    "dfBuilder = dfs.DataFramesBuilder()\n",
    "enotites = dfs.defs.enotites\n",
    "#Read exoda file into dataframe\n",
    "df = dfBuilder.read_exoda(\"../data/ex_2014.xls\")\n",
    "#Add the extra fields\n",
    "df = dfBuilder.add_extra_fields()\n",
    "\n",
    "#Define the fields to plot\n",
    "plot_field = 'plirothenta'\n",
    "plot_fields_array = ['eggekrimenos','diamorfomenos','desmefthenta','plirothenta']"
   ]
  },
  {
   "cell_type": "markdown",
   "metadata": {},
   "source": [
    "##ΦΟΡΕΙΣ"
   ]
  },
  {
   "cell_type": "code",
   "execution_count": null,
   "metadata": {
    "collapsed": false
   },
   "outputs": [],
   "source": [
    "#Get the foreis only dataframe\n",
    "dfex = dfBuilder.get_foreis_df(df)\n",
    "\n",
    "fig, axes = plt.subplots(4, 2, figsize=(18,12))\n",
    "#Work with all pkm\n",
    "dfpkm = dfex.groupby(['foreas']).sum()\n",
    "fig.add_subplot(421)\n",
    "dfpkm[plot_field].plot(kind='bar')\n",
    "\n",
    "for i in sorted(enotites.keys()):\n",
    "    if i == '00':\n",
    "        continue\n",
    "    dfen = dfex[dfex.enotita==i]\n",
    "    dfen = dfen.groupby(['foreas']).sum()\n",
    "    fig.add_subplot(4, 2, int(i)+1)\n",
    "    dfen[plot_field].plot(kind='bar')"
   ]
  },
  {
   "cell_type": "markdown",
   "metadata": {},
   "source": [
    "###Συγκριτικά Ενοτήτων με βάση το φορέα"
   ]
  },
  {
   "cell_type": "code",
   "execution_count": null,
   "metadata": {
    "collapsed": false
   },
   "outputs": [],
   "source": [
    "#Work with all pkm\n",
    "dfpkm = dfex.groupby(['foreas']).sum()\n",
    "dfpkm[plot_fields_array].plot(kind='bar',title = 'PERIFEREIA')\n",
    "\n",
    "for i in sorted(enotites.keys()):\n",
    "    if i == '00':\n",
    "        continue\n",
    "    dfen = dfex[dfex.enotita==i]\n",
    "    dfen = dfen.groupby(['foreas']).sum()\n",
    "    dfen[plot_fields_array].plot(kind='bar',title = enotites[i])"
   ]
  },
  {
   "cell_type": "markdown",
   "metadata": {},
   "source": [
    "##ΧΙΛΙΑΔΑ ΚΑΕ"
   ]
  },
  {
   "cell_type": "code",
   "execution_count": null,
   "metadata": {
    "collapsed": false
   },
   "outputs": [],
   "source": [
    "#Get the dataframe consisting only of thousands\n",
    "dfex = dfBuilder.get_xilia_df(df)\n",
    "\n",
    "fig, axes = plt.subplots(4, 2, figsize=(18,12))\n",
    "#Work with all pkm\n",
    "dfpkm = dfex.groupby(['xilia']).sum()\n",
    "fig.add_subplot(421)\n",
    "dfpkm[plot_field].plot(kind='bar')\n",
    "\n",
    "for i in sorted(enotites.keys()):\n",
    "    if i == '00':\n",
    "        continue\n",
    "    dfen = dfex[dfex.enotita == i]\n",
    "    dfen = dfen.groupby(['xilia']).sum()\n",
    "    fig.add_subplot(4, 2, int(i) + 1)\n",
    "    dfen[plot_field].plot(kind='bar')"
   ]
  },
  {
   "cell_type": "markdown",
   "metadata": {},
   "source": [
    "###Συγκριτικά ενοτήτων με βάση τη χιλιάδα"
   ]
  },
  {
   "cell_type": "code",
   "execution_count": null,
   "metadata": {
    "collapsed": false
   },
   "outputs": [],
   "source": [
    "#Work with all pkm\n",
    "dfpkm = dfex.groupby(['xilia']).sum()\n",
    "dfpkm[plot_fields_array].plot(kind='bar',title='PERIFEREIA')\n",
    "\n",
    "for i in sorted(enotites.keys()):\n",
    "    if i == '00':\n",
    "        continue\n",
    "    dfen = dfex[dfex.enotita == i]\n",
    "    dfen = dfen.groupby(['xilia']).sum()\n",
    "    dfen[plot_fields_array].plot(kind='bar', title=enotites[i])"
   ]
  },
  {
   "cell_type": "markdown",
   "metadata": {},
   "source": [
    "##Εκατοντάδες της Χιλιάδας που δίνουμε ως βάση"
   ]
  },
  {
   "cell_type": "code",
   "execution_count": null,
   "metadata": {
    "collapsed": false
   },
   "outputs": [],
   "source": [
    "#Get the dataframe consisting only of hundreds of thousand t\n",
    "t = '0'\n",
    "dfex = dfBuilder.get_ekato_df(df)\n",
    "dfex = dfex[dfex.xilia == t]\n",
    "fig, axes = plt.subplots(4, 2, figsize=(18,12))\n",
    "#Work with all pkm\n",
    "\n",
    "dfpkm = dfex.groupby(['ekato']).sum()\n",
    "fig.add_subplot(421)\n",
    "dfpkm[plot_field].plot(kind='bar')\n",
    "\n",
    "for i in sorted(enotites.keys()):\n",
    "    if i == '00':\n",
    "        continue\n",
    "    dfen = dfex[dfex.enotita == i]\n",
    "    dfen = dfen.groupby(['ekato']).sum()\n",
    "    fig.add_subplot(4, 2, int(i) + 1)\n",
    "    dfen[plot_field].plot(kind='bar')"
   ]
  },
  {
   "cell_type": "markdown",
   "metadata": {},
   "source": [
    "###Συγκριτικά ενοτήτων με βάση την εκατοντάδα"
   ]
  },
  {
   "cell_type": "code",
   "execution_count": null,
   "metadata": {
    "collapsed": false
   },
   "outputs": [],
   "source": [
    "#Work with all pkm\n",
    "dfpkm = dfex.groupby(['ekato']).sum()\n",
    "dfpkm[plot_fields_array].plot(kind='bar',title='PERIFEREIA')\n",
    "\n",
    "for i in sorted(enotites.keys()):\n",
    "    if i == '00':\n",
    "        continue\n",
    "    dfen = dfex[dfex.enotita == i]\n",
    "    dfen = dfen.groupby(['ekato']).sum()\n",
    "    dfen[plot_fields_array].plot(kind='bar', title=enotites[i])"
   ]
  },
  {
   "cell_type": "markdown",
   "metadata": {},
   "source": [
    "#Ενοποίηση όλων των ετών"
   ]
  },
  {
   "cell_type": "code",
   "execution_count": 2,
   "metadata": {
    "collapsed": false
   },
   "outputs": [],
   "source": [
    "d12 = dfBuilder.read_exoda(\"../data/ex_2012.xls\")\n",
    "d12['year'] = '2012'\n",
    "d13 = dfBuilder.read_exoda(\"../data/ex_2013.xls\")\n",
    "d13['year'] = '2013'\n",
    "d14 = dfBuilder.read_exoda(\"../data/ex_2014.xls\")\n",
    "d14['year'] = '2014'\n",
    "d = d12.append(d13.append(d14))\n",
    "dfBuilder.set_inner_dataframe(d)\n",
    "d = dfBuilder.add_extra_fields()"
   ]
  },
  {
   "cell_type": "code",
   "execution_count": 16,
   "metadata": {
    "collapsed": false
   },
   "outputs": [
    {
     "data": {
      "text/plain": [
       "<matplotlib.axes._subplots.AxesSubplot at 0x1105f1f90>"
      ]
     },
     "execution_count": 16,
     "metadata": {},
     "output_type": "execute_result"
    },
    {
     "data": {
      "image/png": "[encoded data removed]",
      "text/plain": [
       "<matplotlib.figure.Figure at 0x10f814e50>"
      ]
     },
     "metadata": {},
     "output_type": "display_data"
    }
   ],
   "source": [
    "#Get the data as foreis\n",
    "dd = dfBuilder.get_xilia_df(d)\n",
    "dd = dd[(dd.enotita!='00') & (dd.xilia == '0')]\n",
    "dd = dd[['year','enotita','eggekrimenos','diamorfomenos','desmefthenta','plirothenta']]\n",
    "dg = dd.groupby(['enotita','year']).sum()\n",
    "dg.plot(kind='bar')"
   ]
  }
 ],
 "metadata": {
  "kernelspec": {
   "display_name": "Python 2",
   "language": "python",
   "name": "python2"
  },
  "language_info": {
   "codemirror_mode": {
    "name": "ipython",
    "version": 2
   },
   "file_extension": ".py",
   "mimetype": "text/x-python",
   "name": "python",
   "nbconvert_exporter": "python",
   "pygments_lexer": "ipython2",
   "version": "2.7.10"
  }
 },
 "nbformat": 4,
 "nbformat_minor": 0
}
