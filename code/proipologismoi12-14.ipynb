{
 "metadata": {
  "name": "",
  "signature": "sha256:1dd9217e9761c2de0fbe05e0e15a1de61dde433163377a8e4c4f426fd076249c"
 },
 "nbformat": 3,
 "nbformat_minor": 0,
 "worksheets": [
  {
   "cells": [
    {
     "cell_type": "code",
     "collapsed": false,
     "input": [
      "#make plotting inline\n",
      "%matplotlib inline\n",
      "\n",
      "#import the libraries\n",
      "import pandas as pd\n",
      "import matplotlib.pyplot as plt\n",
      "import numpy as np\n",
      "\n",
      "pd.set_option('display.mpl_style', 'default') # Make the graphs a bit prettier\\n\"\n",
      "pd.set_option('expand_frame_repr',True)\n",
      "plt.rcParams['figure.figsize'] = (15, 5)"
     ],
     "language": "python",
     "metadata": {},
     "outputs": []
    },
    {
     "cell_type": "code",
     "collapsed": false,
     "input": [
      "df = pd.read_csv('proipol12_14.csv', sep=';', encoding='utf8') #Read in the file\n",
      "dfex = df[df.a==2] #exoda\n",
      "dfes = df[df.a==6] #esoda\n",
      "ex = dfex[dfex.etos < 2015] #exoda 2012-2014\n",
      "es = dfes[dfes.etos < 2015] #esoda 2012-2014"
     ],
     "language": "python",
     "metadata": {},
     "outputs": []
    },
    {
     "cell_type": "code",
     "collapsed": false,
     "input": [
      "exgp = ex.groupby(['c','etos'],as_index=False) #group by KAE and enotita"
     ],
     "language": "python",
     "metadata": {},
     "outputs": []
    },
    {
     "cell_type": "code",
     "collapsed": false,
     "input": [
      "exgp.size()#display the size of groups"
     ],
     "language": "python",
     "metadata": {},
     "outputs": []
    },
    {
     "cell_type": "code",
     "collapsed": false,
     "input": [
      "exgp.describe()#Describe the groups"
     ],
     "language": "python",
     "metadata": {},
     "outputs": []
    },
    {
     "cell_type": "code",
     "collapsed": false,
     "input": [
      "#Work with diamorfomenos\n",
      "exgp[['eggek','diam']].agg([np.mean,np.std]).reset_index()"
     ],
     "language": "python",
     "metadata": {},
     "outputs": []
    },
    {
     "cell_type": "heading",
     "level": 1,
     "metadata": {},
     "source": [
      "\u039a\u0391\u0395 - \u0395\u03a0\u0399\u03a0\u0395\u0394\u039f \u03a0\u0395\u03a1\u0399\u03a6\u0395\u03a1\u0395\u0399\u0391\u03a3"
     ]
    },
    {
     "cell_type": "code",
     "collapsed": false,
     "input": [],
     "language": "python",
     "metadata": {},
     "outputs": []
    }
   ],
   "metadata": {}
  }
 ]
}